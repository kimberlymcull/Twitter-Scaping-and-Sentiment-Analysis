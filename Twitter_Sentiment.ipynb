{
 "cells": [
  {
   "cell_type": "markdown",
   "metadata": {},
   "source": [
    "OA3802 LAB 1: TWITTER SENTIMENT ANALYSIS"
   ]
  },
  {
   "cell_type": "markdown",
   "metadata": {},
   "source": [
    "TASK 1"
   ]
  },
  {
   "cell_type": "markdown",
   "metadata": {},
   "source": [
    "Using data scraped from twitter, we will import the json file (format of the sample data) and create a usable dictionary called tweets_data to store the tweets and associated information: "
   ]
  },
  {
   "cell_type": "code",
   "execution_count": 1,
   "metadata": {
    "collapsed": true
   },
   "outputs": [],
   "source": [
    "import json\n",
    "tweet_file= open(\"SampleData.txt\", \"r\")\n",
    "tweets_data=[]\n",
    "for line in tweet_file:\n",
    "    try:\n",
    "        tweet=json.loads(line)\n",
    "        tweets_data.append(tweet)\n",
    "    except:\n",
    "        continue"
   ]
  },
  {
   "cell_type": "markdown",
   "metadata": {},
   "source": [
    "The tweet data contains more information than simply the text of the tweet. Below is an example of one data point in the sample of tweets:"
   ]
  },
  {
   "cell_type": "code",
   "execution_count": 2,
   "metadata": {},
   "outputs": [
    {
     "data": {
      "text/plain": [
       "{'contributors': None,\n",
       " 'coordinates': None,\n",
       " 'created_at': 'Thu Oct 05 00:25:10 +0000 2017',\n",
       " 'entities': {'hashtags': [],\n",
       "  'symbols': [],\n",
       "  'urls': [{'display_url': 'd3waapp.org',\n",
       "    'expanded_url': 'http://d3waapp.org/',\n",
       "    'indices': [76, 99],\n",
       "    'url': 'https://t.co/cASF2MMXhB'}],\n",
       "  'user_mentions': []},\n",
       " 'favorite_count': 0,\n",
       " 'favorited': False,\n",
       " 'filter_level': 'low',\n",
       " 'geo': None,\n",
       " 'id': 915734574176628736,\n",
       " 'id_str': '915734574176628736',\n",
       " 'in_reply_to_screen_name': None,\n",
       " 'in_reply_to_status_id': None,\n",
       " 'in_reply_to_status_id_str': None,\n",
       " 'in_reply_to_user_id': None,\n",
       " 'in_reply_to_user_id_str': None,\n",
       " 'is_quote_status': False,\n",
       " 'lang': 'ar',\n",
       " 'place': None,\n",
       " 'possibly_sensitive': False,\n",
       " 'quote_count': 0,\n",
       " 'reply_count': 0,\n",
       " 'retweet_count': 0,\n",
       " 'retweeted': False,\n",
       " 'source': '<a href=\"http://vd1.co/lop\" rel=\"nofollow\">أذكـــــــــــــــــــــار</a>',\n",
       " 'text': 'اللهم بشرني بالخير كما بشرت يعقوب بيوسف وبشرني بالفرح كما بشرت زكريا بيحيى  https://t.co/cASF2MMXhB',\n",
       " 'timestamp_ms': '1507163110666',\n",
       " 'truncated': False,\n",
       " 'user': {'contributors_enabled': False,\n",
       "  'created_at': 'Sun Dec 02 11:24:55 +0000 2012',\n",
       "  'default_profile': False,\n",
       "  'default_profile_image': False,\n",
       "  'description': 'في اللحظة الأخيرة من حياتك سيدرك العالم آنك جيد لكنك غادرت .',\n",
       "  'favourites_count': 715,\n",
       "  'follow_request_sent': None,\n",
       "  'followers_count': 10247,\n",
       "  'following': None,\n",
       "  'friends_count': 10967,\n",
       "  'geo_enabled': True,\n",
       "  'id': 984420744,\n",
       "  'id_str': '984420744',\n",
       "  'is_translator': False,\n",
       "  'lang': 'ar',\n",
       "  'listed_count': 3,\n",
       "  'location': 'تبوك',\n",
       "  'name': 'نزف المشاعر',\n",
       "  'notifications': None,\n",
       "  'profile_background_color': 'C1EBCA',\n",
       "  'profile_background_image_url': 'http://pbs.twimg.com/profile_background_images/841239694/2cdb4c603bb0cab5931de692c6c0359a.jpeg',\n",
       "  'profile_background_image_url_https': 'https://pbs.twimg.com/profile_background_images/841239694/2cdb4c603bb0cab5931de692c6c0359a.jpeg',\n",
       "  'profile_background_tile': True,\n",
       "  'profile_banner_url': 'https://pbs.twimg.com/profile_banners/984420744/1488234139',\n",
       "  'profile_image_url': 'http://pbs.twimg.com/profile_images/836340706197266432/6L0cr9Lu_normal.jpg',\n",
       "  'profile_image_url_https': 'https://pbs.twimg.com/profile_images/836340706197266432/6L0cr9Lu_normal.jpg',\n",
       "  'profile_link_color': '00B33F',\n",
       "  'profile_sidebar_border_color': 'FFFFFF',\n",
       "  'profile_sidebar_fill_color': 'DDEEF6',\n",
       "  'profile_text_color': '333333',\n",
       "  'profile_use_background_image': True,\n",
       "  'protected': False,\n",
       "  'screen_name': 'abdualaholian',\n",
       "  'statuses_count': 163733,\n",
       "  'time_zone': 'Baghdad',\n",
       "  'translator_type': 'none',\n",
       "  'url': None,\n",
       "  'utc_offset': 10800,\n",
       "  'verified': False}}"
      ]
     },
     "execution_count": 2,
     "metadata": {},
     "output_type": "execute_result"
    }
   ],
   "source": [
    "tweets_data[0]"
   ]
  },
  {
   "cell_type": "markdown",
   "metadata": {},
   "source": [
    "Since we are only interested in the text of the tweets and their associated hashtags, we will create another list that contains only this information. Tweets without hashtags will be marked with NA. "
   ]
  },
  {
   "cell_type": "code",
   "execution_count": 3,
   "metadata": {
    "collapsed": true
   },
   "outputs": [],
   "source": [
    "#Create a list of hashtags and associated tweets\n",
    "import re\n",
    "import pandas\n",
    "i=0\n",
    "hashtags=[]\n",
    "#search for hashtags\n",
    "regex = r'#\\w+'\n",
    "while i < len(tweets_data):\n",
    "    #remove deleted tweets \n",
    "    if 'delete' in tweets_data[i]:\n",
    "        i=i+1\n",
    "    else:\n",
    "        #pull text and hashtags from each tweet\n",
    "        hasht= re.findall(regex,tweets_data[i]['text'])\n",
    "        tweets = tweets_data[i]['text']\n",
    "        if hasht==[]:\n",
    "            #give value of NA to any tweet not containing a hashtag\n",
    "            hasht='NA'\n",
    "            hashtags.append([hasht,tweets])\n",
    "            i=i+1\n",
    "        else:\n",
    "            #append list with hashtags and tweets\n",
    "            hasht=hasht[0]\n",
    "            hashtags.append([hasht,tweets])\n",
    "            i=i+1\n",
    "    "
   ]
  },
  {
   "cell_type": "markdown",
   "metadata": {},
   "source": [
    "Printed below are the first five hashtags and tweets from the sample:"
   ]
  },
  {
   "cell_type": "code",
   "execution_count": 4,
   "metadata": {},
   "outputs": [
    {
     "data": {
      "text/html": [
       "<div>\n",
       "<table border=\"1\" class=\"dataframe\">\n",
       "  <thead>\n",
       "    <tr style=\"text-align: right;\">\n",
       "      <th></th>\n",
       "      <th>Hashtag</th>\n",
       "      <th>Tweet</th>\n",
       "    </tr>\n",
       "  </thead>\n",
       "  <tbody>\n",
       "    <tr>\n",
       "      <th>0</th>\n",
       "      <td>NA</td>\n",
       "      <td>اللهم بشرني بالخير كما بشرت يعقوب بيوسف وبشرني...</td>\n",
       "    </tr>\n",
       "    <tr>\n",
       "      <th>1</th>\n",
       "      <td>NA</td>\n",
       "      <td>@marialevicuna No se  pase @Lenin otra correis...</td>\n",
       "    </tr>\n",
       "    <tr>\n",
       "      <th>2</th>\n",
       "      <td>NA</td>\n",
       "      <td>amateur porno tawny roberts sonia red universi...</td>\n",
       "    </tr>\n",
       "    <tr>\n",
       "      <th>3</th>\n",
       "      <td>#crowdfunding</td>\n",
       "      <td>RT @Crowdfund_Blog: Thanks for following @JT_A...</td>\n",
       "    </tr>\n",
       "    <tr>\n",
       "      <th>4</th>\n",
       "      <td>NA</td>\n",
       "      <td>今日はハロッズからほど近い場所に位置するマンダリンオリエンタルホテルロンドンのアフタヌーンテ...</td>\n",
       "    </tr>\n",
       "  </tbody>\n",
       "</table>\n",
       "</div>"
      ],
      "text/plain": [
       "         Hashtag                                              Tweet\n",
       "0             NA  اللهم بشرني بالخير كما بشرت يعقوب بيوسف وبشرني...\n",
       "1             NA  @marialevicuna No se  pase @Lenin otra correis...\n",
       "2             NA  amateur porno tawny roberts sonia red universi...\n",
       "3  #crowdfunding  RT @Crowdfund_Blog: Thanks for following @JT_A...\n",
       "4             NA  今日はハロッズからほど近い場所に位置するマンダリンオリエンタルホテルロンドンのアフタヌーンテ..."
      ]
     },
     "execution_count": 4,
     "metadata": {},
     "output_type": "execute_result"
    }
   ],
   "source": [
    "#First five in sample are printed\n",
    "pandas.DataFrame(hashtags[0:5], columns=['Hashtag','Tweet'])"
   ]
  },
  {
   "cell_type": "markdown",
   "metadata": {
    "collapsed": true
   },
   "source": [
    "Now, we will identify the top 5 hashtags most frequently used from the sample data:"
   ]
  },
  {
   "cell_type": "code",
   "execution_count": 5,
   "metadata": {},
   "outputs": [
    {
     "data": {
      "text/html": [
       "<div>\n",
       "<table border=\"1\" class=\"dataframe\">\n",
       "  <thead>\n",
       "    <tr style=\"text-align: right;\">\n",
       "      <th></th>\n",
       "      <th>Hashtag</th>\n",
       "      <th>Frequency</th>\n",
       "    </tr>\n",
       "  </thead>\n",
       "  <tbody>\n",
       "    <tr>\n",
       "      <th>0</th>\n",
       "      <td>#izmirescort</td>\n",
       "      <td>46</td>\n",
       "    </tr>\n",
       "    <tr>\n",
       "      <th>1</th>\n",
       "      <td>#MPN</td>\n",
       "      <td>36</td>\n",
       "    </tr>\n",
       "    <tr>\n",
       "      <th>2</th>\n",
       "      <td>#ร</td>\n",
       "      <td>22</td>\n",
       "    </tr>\n",
       "    <tr>\n",
       "      <th>3</th>\n",
       "      <td>#ALDUB116thWeeksary</td>\n",
       "      <td>11</td>\n",
       "    </tr>\n",
       "    <tr>\n",
       "      <th>4</th>\n",
       "      <td>#Empire</td>\n",
       "      <td>8</td>\n",
       "    </tr>\n",
       "  </tbody>\n",
       "</table>\n",
       "</div>"
      ],
      "text/plain": [
       "               Hashtag  Frequency\n",
       "0         #izmirescort         46\n",
       "1                 #MPN         36\n",
       "2                   #ร         22\n",
       "3  #ALDUB116thWeeksary         11\n",
       "4              #Empire          8"
      ]
     },
     "execution_count": 5,
     "metadata": {},
     "output_type": "execute_result"
    }
   ],
   "source": [
    "#Create list of hashtags\n",
    "hashtag=[item[0] for item in hashtags]\n",
    "#Count how often a hashtag appears\n",
    "wordCount = {}\n",
    "for tag in hashtag:\n",
    "     if tag in wordCount:\n",
    "         wordCount[tag] += 1\n",
    "     else:\n",
    "         wordCount[tag] = 1\n",
    "#Find top five, note NA will be in place 0 in the list            \n",
    "Best = sorted(wordCount, key = wordCount.get, reverse = True)\n",
    "Top_5=[]\n",
    "for tags in Best[1:6]:\n",
    "    num=wordCount[tags]\n",
    "    Top_5.append([tags,num])\n",
    "pandas.DataFrame(Top_5, columns=['Hashtag','Frequency'])\n",
    "    \n",
    "    \n"
   ]
  },
  {
   "cell_type": "markdown",
   "metadata": {},
   "source": [
    "Graphing the top 5 hashtags in a bar chart can provide a visual for how frequently they appear in the data set."
   ]
  },
  {
   "cell_type": "code",
   "execution_count": 6,
   "metadata": {},
   "outputs": [
    {
     "data": {
      "image/png": "[encoded data removed]",
      "text/plain": [
       "<matplotlib.figure.Figure at 0x7f00f397c278>"
      ]
     },
     "metadata": {},
     "output_type": "display_data"
    }
   ],
   "source": [
    "import matplotlib.pyplot as plt; plt.rcdefaults()\n",
    "import numpy as np\n",
    "import matplotlib.pyplot as plt\n",
    " \n",
    "#create list of x and y values    \n",
    "objects = []\n",
    "performance = []\n",
    "for item in Top_5:\n",
    "    objects.append(item[0])\n",
    "    performance.append(item[1])\n",
    "\n",
    "#graph barplot\n",
    "y_pos = np.arange(len(objects))\n",
    "fig, ax = plt.subplots()\n",
    "plt.bar(y_pos, performance, align='center', alpha=0.5)\n",
    "plt.xticks(y_pos, objects)\n",
    "plt.ylabel('Frequency')\n",
    "plt.title('Top Five Hashtags on Twitter')\n",
    "fig.autofmt_xdate()\n",
    "plt.show()\n"
   ]
  },
  {
   "cell_type": "markdown",
   "metadata": {},
   "source": [
    "TASK 2"
   ]
  },
  {
   "cell_type": "markdown",
   "metadata": {},
   "source": [
    "Each tweet has a sentiment associated with it that can be identified by the individual words it contains. We will calculate and derive a sentiment value for each tweet from the sample. "
   ]
  },
  {
   "cell_type": "markdown",
   "metadata": {},
   "source": [
    "To calculate a sentiment score, we will use AFINN-111.txt that contains a list of words with precomputed sentiment scores based upon their connotation. Then, each tweet will be given a total sentiment score based upon its word make up."
   ]
  },
  {
   "cell_type": "markdown",
   "metadata": {},
   "source": [
    "Below, we load AFINN-111.txt file with sentiment scores:"
   ]
  },
  {
   "cell_type": "code",
   "execution_count": 7,
   "metadata": {
    "collapsed": true
   },
   "outputs": [],
   "source": [
    "#Load AFINN file to create a dictionary of words and their sentiment score\n",
    "afinnfile = open(\"AFINN-111.txt\")\n",
    "scores = {} # initialize an empty dictionary\n",
    "for line in afinnfile:\n",
    "  term, score  = line.split(\"\\t\")  # The file is tab-delimited. \"\\t\" means \"tab character\"\n",
    "  scores[term] = int(score)  # Convert the score to an integer.\n",
    "\n",
    "#print(scores.items()) # Print every (term, score) pair in the dictionary"
   ]
  },
  {
   "cell_type": "markdown",
   "metadata": {},
   "source": [
    "The code below assigns a sentiment score to each tweet in the sample and prints the first 11 tweets with their respective score:"
   ]
  },
  {
   "cell_type": "code",
   "execution_count": 8,
   "metadata": {},
   "outputs": [
    {
     "data": {
      "text/html": [
       "<div>\n",
       "<table border=\"1\" class=\"dataframe\">\n",
       "  <thead>\n",
       "    <tr style=\"text-align: right;\">\n",
       "      <th></th>\n",
       "      <th>Tweet</th>\n",
       "      <th>Sentiment Score</th>\n",
       "    </tr>\n",
       "  </thead>\n",
       "  <tbody>\n",
       "    <tr>\n",
       "      <th>0</th>\n",
       "      <td>اللهم بشرني بالخير كما بشرت يعقوب بيوسف وبشرني...</td>\n",
       "      <td>0</td>\n",
       "    </tr>\n",
       "    <tr>\n",
       "      <th>1</th>\n",
       "      <td>@marialevicuna No se  pase @Lenin otra correis...</td>\n",
       "      <td>-1</td>\n",
       "    </tr>\n",
       "    <tr>\n",
       "      <th>2</th>\n",
       "      <td>amateur porno tawny roberts sonia red universi...</td>\n",
       "      <td>0</td>\n",
       "    </tr>\n",
       "    <tr>\n",
       "      <th>3</th>\n",
       "      <td>RT @Crowdfund_Blog: Thanks for following @JT_A...</td>\n",
       "      <td>3</td>\n",
       "    </tr>\n",
       "    <tr>\n",
       "      <th>4</th>\n",
       "      <td>今日はハロッズからほど近い場所に位置するマンダリンオリエンタルホテルロンドンのアフタヌーンテ...</td>\n",
       "      <td>0</td>\n",
       "    </tr>\n",
       "    <tr>\n",
       "      <th>5</th>\n",
       "      <td>タオル渡すつばち、ロマンだよね(?)</td>\n",
       "      <td>0</td>\n",
       "    </tr>\n",
       "    <tr>\n",
       "      <th>6</th>\n",
       "      <td>二日酔い過ぎて寝たいのに寝れない…胃が気持ち悪い👻👻👻</td>\n",
       "      <td>0</td>\n",
       "    </tr>\n",
       "    <tr>\n",
       "      <th>7</th>\n",
       "      <td>RT @CNCOmusic: @starzabdiel @Dabey92 es un reg...</td>\n",
       "      <td>0</td>\n",
       "    </tr>\n",
       "    <tr>\n",
       "      <th>8</th>\n",
       "      <td>I want to win big with @mousesports, #DrPepper...</td>\n",
       "      <td>6</td>\n",
       "    </tr>\n",
       "    <tr>\n",
       "      <th>9</th>\n",
       "      <td>RT @Los40_SLP: ¿Quién es tu boyband favorita?\\...</td>\n",
       "      <td>0</td>\n",
       "    </tr>\n",
       "    <tr>\n",
       "      <th>10</th>\n",
       "      <td>RT @charlieefellows: I think the whole gymnast...</td>\n",
       "      <td>-3</td>\n",
       "    </tr>\n",
       "  </tbody>\n",
       "</table>\n",
       "</div>"
      ],
      "text/plain": [
       "                                                Tweet  Sentiment Score\n",
       "0   اللهم بشرني بالخير كما بشرت يعقوب بيوسف وبشرني...                0\n",
       "1   @marialevicuna No se  pase @Lenin otra correis...               -1\n",
       "2   amateur porno tawny roberts sonia red universi...                0\n",
       "3   RT @Crowdfund_Blog: Thanks for following @JT_A...                3\n",
       "4   今日はハロッズからほど近い場所に位置するマンダリンオリエンタルホテルロンドンのアフタヌーンテ...                0\n",
       "5                                  タオル渡すつばち、ロマンだよね(?)                0\n",
       "6                         二日酔い過ぎて寝たいのに寝れない…胃が気持ち悪い👻👻👻                0\n",
       "7   RT @CNCOmusic: @starzabdiel @Dabey92 es un reg...                0\n",
       "8   I want to win big with @mousesports, #DrPepper...                6\n",
       "9   RT @Los40_SLP: ¿Quién es tu boyband favorita?\\...                0\n",
       "10  RT @charlieefellows: I think the whole gymnast...               -3"
      ]
     },
     "execution_count": 8,
     "metadata": {},
     "output_type": "execute_result"
    }
   ],
   "source": [
    "#convert unicode characters to a usable format\n",
    "unicode_string = u\"aaaÃ Ã§Ã§Ã§Ã±Ã±Ã±\"\n",
    "encoded_string = unicode_string.encode('utf-8')\n",
    "#print(encoded_string)\n",
    "\n",
    "#create list of tweets\n",
    "tweetList= [item[1] for item in hashtags]\n",
    "i=0\n",
    "regex=r'\\w+'\n",
    "sentiment=[]\n",
    "while i< len(tweetList):\n",
    "    words=[re.findall(regex,tweetList[i])]\n",
    "    grade=[]\n",
    "    j=0\n",
    "    while j < len(words[0]):\n",
    "        #account for lower case syntax in scores with .lower()\n",
    "        if words[0][j].lower() in scores.keys():\n",
    "            #pull value of each word\n",
    "            value=scores[words[0][j].lower()]\n",
    "            #append\n",
    "            grade.append(value)\n",
    "            j=j+1\n",
    "        else:\n",
    "            j=j+1\n",
    "    #calculate the sentiment score my summing each word value\n",
    "    total=sum(grade)\n",
    "    t=tweetList[i]\n",
    "    #append sentiment list with tweet and calculated sentiment score\n",
    "    sentiment.append([t,total])\n",
    "    i=i+1\n",
    "    \n",
    "pandas.DataFrame(sentiment[0:11], columns=['Tweet','Sentiment Score'])           "
   ]
  },
  {
   "cell_type": "markdown",
   "metadata": {},
   "source": [
    "TASK 3"
   ]
  },
  {
   "cell_type": "markdown",
   "metadata": {},
   "source": [
    "There are several words within my sample of tweets that are not found within the AFINN-111 text file (imported into python earlier as a dictionary called scores). I will calculate a sentiment score for each english word and ammend the dictionary. First, I will subset the tweets that are in english. To maximize the likelyhood of returning only english tweets, I will discard tweets when fewer than 60% of its sentence is recognizable in the english language."
   ]
  },
  {
   "cell_type": "code",
   "execution_count": 9,
   "metadata": {
    "scrolled": true
   },
   "outputs": [
    {
     "data": {
      "text/html": [
       "<div>\n",
       "<table border=\"1\" class=\"dataframe\">\n",
       "  <thead>\n",
       "    <tr style=\"text-align: right;\">\n",
       "      <th></th>\n",
       "      <th>Tweet</th>\n",
       "      <th>Sentiment Score</th>\n",
       "    </tr>\n",
       "  </thead>\n",
       "  <tbody>\n",
       "    <tr>\n",
       "      <th>0</th>\n",
       "      <td>amateur porno tawny roberts sonia red universi...</td>\n",
       "      <td>0</td>\n",
       "    </tr>\n",
       "    <tr>\n",
       "      <th>1</th>\n",
       "      <td>RT @Crowdfund_Blog: Thanks for following @JT_A...</td>\n",
       "      <td>3</td>\n",
       "    </tr>\n",
       "    <tr>\n",
       "      <th>2</th>\n",
       "      <td>I want to win big with @mousesports, #DrPepper...</td>\n",
       "      <td>6</td>\n",
       "    </tr>\n",
       "    <tr>\n",
       "      <th>3</th>\n",
       "      <td>RT @charlieefellows: I think the whole gymnast...</td>\n",
       "      <td>-3</td>\n",
       "    </tr>\n",
       "    <tr>\n",
       "      <th>4</th>\n",
       "      <td>RT @movietvtechgeek: Latest:  ‘Star Wars Rebel...</td>\n",
       "      <td>-2</td>\n",
       "    </tr>\n",
       "    <tr>\n",
       "      <th>5</th>\n",
       "      <td>RT @MrFilmkritik: May Ginsburg live forever an...</td>\n",
       "      <td>0</td>\n",
       "    </tr>\n",
       "    <tr>\n",
       "      <th>6</th>\n",
       "      <td>RT @MissDomiStar: @kevinolearytv but to call t...</td>\n",
       "      <td>-3</td>\n",
       "    </tr>\n",
       "    <tr>\n",
       "      <th>7</th>\n",
       "      <td>RT @ArabelleRaphael: Sold my vid! Arabelle And...</td>\n",
       "      <td>-5</td>\n",
       "    </tr>\n",
       "    <tr>\n",
       "      <th>8</th>\n",
       "      <td>@aafp Would not miss the shenanigans w @drmike...</td>\n",
       "      <td>-2</td>\n",
       "    </tr>\n",
       "    <tr>\n",
       "      <th>9</th>\n",
       "      <td>@Irish311fan Miss you Scott!! Bummed I didn't ...</td>\n",
       "      <td>-2</td>\n",
       "    </tr>\n",
       "    <tr>\n",
       "      <th>10</th>\n",
       "      <td>Kimmel Blames Gun ‘Nuts’ — ‘You Bear Some Resp...</td>\n",
       "      <td>-6</td>\n",
       "    </tr>\n",
       "  </tbody>\n",
       "</table>\n",
       "</div>"
      ],
      "text/plain": [
       "                                                Tweet  Sentiment Score\n",
       "0   amateur porno tawny roberts sonia red universi...                0\n",
       "1   RT @Crowdfund_Blog: Thanks for following @JT_A...                3\n",
       "2   I want to win big with @mousesports, #DrPepper...                6\n",
       "3   RT @charlieefellows: I think the whole gymnast...               -3\n",
       "4   RT @movietvtechgeek: Latest:  ‘Star Wars Rebel...               -2\n",
       "5   RT @MrFilmkritik: May Ginsburg live forever an...                0\n",
       "6   RT @MissDomiStar: @kevinolearytv but to call t...               -3\n",
       "7   RT @ArabelleRaphael: Sold my vid! Arabelle And...               -5\n",
       "8   @aafp Would not miss the shenanigans w @drmike...               -2\n",
       "9   @Irish311fan Miss you Scott!! Bummed I didn't ...               -2\n",
       "10  Kimmel Blames Gun ‘Nuts’ — ‘You Bear Some Resp...               -6"
      ]
     },
     "execution_count": 9,
     "metadata": {},
     "output_type": "execute_result"
    }
   ],
   "source": [
    "#Subset english Tweets\n",
    "import enchant\n",
    "\n",
    "d = enchant.Dict(\"en_US\")\n",
    "regex=r'\\w+'\n",
    "englishTweets=[]\n",
    "for tweet in sentiment:\n",
    "    sentence=[re.findall(regex,tweet[0])]\n",
    "    count=0\n",
    "    for part in sentence:\n",
    "        for word in part:\n",
    "            if d.check(word)==True:\n",
    "                count=count+1\n",
    "            else:\n",
    "                continue\n",
    "    if len(part)==0:\n",
    "        continue\n",
    "    else:\n",
    "        #append only if 60% of the words in the text are english\n",
    "        if count/len(part)>=.6:\n",
    "            englishTweets.append(tweet)\n",
    "        else:\n",
    "            continue\n",
    "pandas.DataFrame(englishTweets[0:11], columns=['Tweet','Sentiment Score'])"
   ]
  },
  {
   "cell_type": "markdown",
   "metadata": {},
   "source": [
    "Some tweets are still not in english, but majority of the tweets that are not english have been removed from the sample. From this sample, which we will call englishTweets, we will identify all the words that do not already appear in the scores dictionary and store them in a list called newWords. "
   ]
  },
  {
   "cell_type": "code",
   "execution_count": 10,
   "metadata": {},
   "outputs": [
    {
     "data": {
      "text/plain": [
       "5058"
      ]
     },
     "execution_count": 10,
     "metadata": {},
     "output_type": "execute_result"
    }
   ],
   "source": [
    "#Collect words not in sentiment score file, AFINN-111.txt.\n",
    "d = enchant.Dict(\"en_US\")\n",
    "regex=r'\\w+'\n",
    "newWords=[]\n",
    "for tweet in englishTweets:\n",
    "    sentence=[re.findall(regex,tweet[0])]\n",
    "    for part in sentence:\n",
    "        for word in part:\n",
    "            if d.check(word)==True:\n",
    "                #account for lowercase syntax in scores\n",
    "                if word.lower() in scores.keys():\n",
    "                    continue        \n",
    "                else:\n",
    "                    if word.lower() in newWords:\n",
    "                        continue\n",
    "                    else:\n",
    "                        newWords.append(word.lower())\n",
    "            else:\n",
    "                continue\n",
    "len(newWords)"
   ]
  },
  {
   "cell_type": "markdown",
   "metadata": {
    "collapsed": true
   },
   "source": [
    "There are 5,058 words in this sample that do not have an associated sentiment score. We will assign these words a sentiment score and append them to the scores dictionary. Each word's sentiment score will be calculated by averaging the sentiment scores of every tweet that uses the word. Because the average sentiment score may exceed +- 5, the assigned sentiment score will be bounded to not exceed 5 or drop below -5 for consistency with the range of the scores dictionary. The estimates for strongly connotated words will be slightly skewed because I am not standardizing the scores."
   ]
  },
  {
   "cell_type": "code",
   "execution_count": 11,
   "metadata": {},
   "outputs": [
    {
     "data": {
      "text/html": [
       "<div>\n",
       "<table border=\"1\" class=\"dataframe\">\n",
       "  <thead>\n",
       "    <tr style=\"text-align: right;\">\n",
       "      <th></th>\n",
       "      <th>Word</th>\n",
       "      <th>Sentiment Score</th>\n",
       "    </tr>\n",
       "  </thead>\n",
       "  <tbody>\n",
       "    <tr>\n",
       "      <th>0</th>\n",
       "      <td>amateur</td>\n",
       "      <td>1</td>\n",
       "    </tr>\n",
       "    <tr>\n",
       "      <th>1</th>\n",
       "      <td>porno</td>\n",
       "      <td>0</td>\n",
       "    </tr>\n",
       "    <tr>\n",
       "      <th>2</th>\n",
       "      <td>tawny</td>\n",
       "      <td>0</td>\n",
       "    </tr>\n",
       "    <tr>\n",
       "      <th>3</th>\n",
       "      <td>red</td>\n",
       "      <td>-1</td>\n",
       "    </tr>\n",
       "    <tr>\n",
       "      <th>4</th>\n",
       "      <td>university</td>\n",
       "      <td>-2</td>\n",
       "    </tr>\n",
       "    <tr>\n",
       "      <th>5</th>\n",
       "      <td>porn</td>\n",
       "      <td>0</td>\n",
       "    </tr>\n",
       "    <tr>\n",
       "      <th>6</th>\n",
       "      <td>rt</td>\n",
       "      <td>0</td>\n",
       "    </tr>\n",
       "    <tr>\n",
       "      <th>7</th>\n",
       "      <td>for</td>\n",
       "      <td>0</td>\n",
       "    </tr>\n",
       "    <tr>\n",
       "      <th>8</th>\n",
       "      <td>following</td>\n",
       "      <td>0</td>\n",
       "    </tr>\n",
       "    <tr>\n",
       "      <th>9</th>\n",
       "      <td>if</td>\n",
       "      <td>0</td>\n",
       "    </tr>\n",
       "    <tr>\n",
       "      <th>10</th>\n",
       "      <td>you</td>\n",
       "      <td>0</td>\n",
       "    </tr>\n",
       "  </tbody>\n",
       "</table>\n",
       "</div>"
      ],
      "text/plain": [
       "          Word  Sentiment Score\n",
       "0      amateur                1\n",
       "1        porno                0\n",
       "2        tawny                0\n",
       "3          red               -1\n",
       "4   university               -2\n",
       "5         porn                0\n",
       "6           rt                0\n",
       "7          for                0\n",
       "8    following                0\n",
       "9           if                0\n",
       "10         you                0"
      ]
     },
     "execution_count": 11,
     "metadata": {},
     "output_type": "execute_result"
    }
   ],
   "source": [
    "#assign sentiment scores and add to original sentiment scores.\n",
    "newScore=[]\n",
    "for words in newWords:\n",
    "    Score=[]\n",
    "    count=0\n",
    "    for tweets in englishTweets:\n",
    "        #account for lowercase syntax\n",
    "        if words in tweets[0].lower():\n",
    "            value=tweets[1]\n",
    "            Score.append(value)\n",
    "            count=count+1\n",
    "        else:\n",
    "            continue\n",
    "    total=sum(Score)\n",
    "    avg=total//count\n",
    "    if avg > 5:\n",
    "        avg=5\n",
    "    if avg < -5:\n",
    "        avg=-5\n",
    "    else:\n",
    "        pass\n",
    "    newScore.append([words,avg])\n",
    "pandas.DataFrame(newScore[0:11], columns=['Word','Sentiment Score'])"
   ]
  },
  {
   "cell_type": "markdown",
   "metadata": {},
   "source": [
    "Now, I will add these new scores to the original scores dictionary."
   ]
  },
  {
   "cell_type": "code",
   "execution_count": 12,
   "metadata": {
    "collapsed": true
   },
   "outputs": [],
   "source": [
    "for word in newScore:\n",
    "    scores[word[0]] = word[1]\n",
    "#len(scores)\n",
    "#New length is 7535\n",
    "#original length was 2477"
   ]
  },
  {
   "cell_type": "markdown",
   "metadata": {},
   "source": [
    "TASK 4"
   ]
  },
  {
   "cell_type": "markdown",
   "metadata": {},
   "source": [
    "I will test the extended sentiment vocabulary on a different twitter scrape for the hashtag \"#notmypresident\"."
   ]
  },
  {
   "cell_type": "markdown",
   "metadata": {},
   "source": [
    "First, I will import the new file and store raw tweets in a list called newTweets."
   ]
  },
  {
   "cell_type": "code",
   "execution_count": 13,
   "metadata": {
    "collapsed": true
   },
   "outputs": [],
   "source": [
    "#import sample\n",
    "import json\n",
    "tweet_file= open(\"notmypresident.txt\", \"r\")\n",
    "newTweets=[]\n",
    "for line in tweet_file:\n",
    "    try:\n",
    "        tweet=json.loads(line)\n",
    "        newTweets.append(tweet)\n",
    "    except:\n",
    "        continue"
   ]
  },
  {
   "cell_type": "markdown",
   "metadata": {},
   "source": [
    "Then, I will create a list with the text of each english tweet, calling the list notmypres."
   ]
  },
  {
   "cell_type": "code",
   "execution_count": 17,
   "metadata": {
    "collapsed": true
   },
   "outputs": [],
   "source": [
    "#convert unicode characters to a usable format\n",
    "unicode_string = u\"aaaÃ Ã§Ã§Ã§Ã±Ã±Ã±\"\n",
    "encoded_string = unicode_string.encode('utf-8')\n",
    "#print(encoded_string)\n",
    "\n",
    "#create list of tweets to score\n",
    "notmypres=[]\n",
    "while i < len(newTweets):\n",
    "    #remove deleted tweets \n",
    "    if 'delete' in newTweets[i]:\n",
    "        i=i+1\n",
    "    else:\n",
    "        #pull text \n",
    "        notmypres.append([newTweets[i]['text']])\n",
    "        i=i+1\n",
    "        \n",
    "#subset english tweets       \n",
    "d = enchant.Dict(\"en_US\")\n",
    "regex=r'\\w+'\n",
    "englishTweets=[]\n",
    "for tweet in notmypres:\n",
    "    sentence=[re.findall(regex,tweet[0])]\n",
    "    count=0\n",
    "    for part in sentence:\n",
    "        for word in part:\n",
    "            if d.check(word)==True:\n",
    "                count=count+1\n",
    "            else:\n",
    "                continue\n",
    "    if len(part)==0:\n",
    "        continue\n",
    "    else:\n",
    "        if count/len(part)>=.6:\n",
    "            englishTweets.append(tweet)\n",
    "        else:\n",
    "            continue\n",
    "notmypres=englishTweets     "
   ]
  },
  {
   "cell_type": "markdown",
   "metadata": {},
   "source": [
    "Finally, I will use the updated dictionary of sentiment scores to calculate a total sentiment score for the sample of tweets containing the hashtag #notmypresident. The first 11 tweet in the sample with their scores are printed below."
   ]
  },
  {
   "cell_type": "code",
   "execution_count": 18,
   "metadata": {},
   "outputs": [
    {
     "data": {
      "text/html": [
       "<div>\n",
       "<table border=\"1\" class=\"dataframe\">\n",
       "  <thead>\n",
       "    <tr style=\"text-align: right;\">\n",
       "      <th></th>\n",
       "      <th>Tweet</th>\n",
       "      <th>Sentiment Score</th>\n",
       "    </tr>\n",
       "  </thead>\n",
       "  <tbody>\n",
       "    <tr>\n",
       "      <th>0</th>\n",
       "      <td>Perfection. https://t.co/1NDxk9ViAt</td>\n",
       "      <td>4</td>\n",
       "    </tr>\n",
       "    <tr>\n",
       "      <th>1</th>\n",
       "      <td>RT @SpringsJm: @StephenKing @realDonaldTrump  ...</td>\n",
       "      <td>-8</td>\n",
       "    </tr>\n",
       "    <tr>\n",
       "      <th>2</th>\n",
       "      <td>RT @JackPolakoff: #Trump success!\\nAnother day...</td>\n",
       "      <td>4</td>\n",
       "    </tr>\n",
       "    <tr>\n",
       "      <th>3</th>\n",
       "      <td>RT @wssu98grad: 🤦🏾‍♀️🤦🏾‍♀️🤦🏾‍♀️ and y’all vote...</td>\n",
       "      <td>-3</td>\n",
       "    </tr>\n",
       "    <tr>\n",
       "      <th>4</th>\n",
       "      <td>@LindseyGrahamSC @realDonaldTrump I call bulls...</td>\n",
       "      <td>-8</td>\n",
       "    </tr>\n",
       "    <tr>\n",
       "      <th>5</th>\n",
       "      <td>RT @NicBoerio: Our country has been unsuccessf...</td>\n",
       "      <td>-14</td>\n",
       "    </tr>\n",
       "    <tr>\n",
       "      <th>6</th>\n",
       "      <td>RT @heathmd: @LindseyGrahamSC @realDonaldTrump...</td>\n",
       "      <td>-8</td>\n",
       "    </tr>\n",
       "    <tr>\n",
       "      <th>7</th>\n",
       "      <td>RT @wssu98grad: 🤦🏾‍♀️🤦🏾‍♀️🤦🏾‍♀️ and y’all vote...</td>\n",
       "      <td>-3</td>\n",
       "    </tr>\n",
       "    <tr>\n",
       "      <th>8</th>\n",
       "      <td>@Amy_Siskind @JBsTweets I'm 55 years old. It w...</td>\n",
       "      <td>8</td>\n",
       "    </tr>\n",
       "    <tr>\n",
       "      <th>9</th>\n",
       "      <td>RT @JackPolakoff: #Trump success!\\nAnother day...</td>\n",
       "      <td>4</td>\n",
       "    </tr>\n",
       "    <tr>\n",
       "      <th>10</th>\n",
       "      <td>Post FB à lire et à RT un max\\nMerci @didierer...</td>\n",
       "      <td>-1</td>\n",
       "    </tr>\n",
       "  </tbody>\n",
       "</table>\n",
       "</div>"
      ],
      "text/plain": [
       "                                                Tweet  Sentiment Score\n",
       "0                 Perfection. https://t.co/1NDxk9ViAt                4\n",
       "1   RT @SpringsJm: @StephenKing @realDonaldTrump  ...               -8\n",
       "2   RT @JackPolakoff: #Trump success!\\nAnother day...                4\n",
       "3   RT @wssu98grad: 🤦🏾‍♀️🤦🏾‍♀️🤦🏾‍♀️ and y’all vote...               -3\n",
       "4   @LindseyGrahamSC @realDonaldTrump I call bulls...               -8\n",
       "5   RT @NicBoerio: Our country has been unsuccessf...              -14\n",
       "6   RT @heathmd: @LindseyGrahamSC @realDonaldTrump...               -8\n",
       "7   RT @wssu98grad: 🤦🏾‍♀️🤦🏾‍♀️🤦🏾‍♀️ and y’all vote...               -3\n",
       "8   @Amy_Siskind @JBsTweets I'm 55 years old. It w...                8\n",
       "9   RT @JackPolakoff: #Trump success!\\nAnother day...                4\n",
       "10  Post FB à lire et à RT un max\\nMerci @didierer...               -1"
      ]
     },
     "execution_count": 18,
     "metadata": {},
     "output_type": "execute_result"
    }
   ],
   "source": [
    "#score tweets \n",
    "i=0\n",
    "regex=r'\\w+'\n",
    "while i< len(notmypres):\n",
    "    words=[re.findall(regex,notmypres[i][0])]\n",
    "    grade=[]\n",
    "    j=0\n",
    "    while j < len(words[0]):\n",
    "        if words[0][j].lower() in scores.keys():\n",
    "            value=scores[words[0][j].lower()]\n",
    "            grade.append(value)\n",
    "            j=j+1\n",
    "        else:\n",
    "            j=j+1\n",
    "    total=sum(grade)\n",
    "    notmypres[i].append(total)\n",
    "    i=i+1\n",
    "    \n",
    "pandas.DataFrame(notmypres[0:11], columns=['Tweet','Sentiment Score'])"
   ]
  },
  {
   "cell_type": "markdown",
   "metadata": {},
   "source": [
    "And the average sentiment score for these tweets is...."
   ]
  },
  {
   "cell_type": "code",
   "execution_count": 19,
   "metadata": {},
   "outputs": [
    {
     "name": "stdout",
     "output_type": "stream",
     "text": [
      "-3.0\n"
     ]
    }
   ],
   "source": [
    "sentiment=[]\n",
    "for tweet in notmypres:\n",
    "    sentiment.append(tweet[1])\n",
    "average=sum(sentiment)/len(sentiment)\n",
    "print(average)  \n",
    "    "
   ]
  },
  {
   "cell_type": "markdown",
   "metadata": {},
   "source": [
    "Of note, a flaw in the sentiment scoring is the inability of the dictionary to identify sarcasm and to recognize when normally positive words have a negative association because they appear after negatives like not or won't, for example. Because of this limitation, I believe the average is at least slightly skewed, producing an average sentiment score that is more positive than it should be."
   ]
  }
 ],
 "metadata": {
  "kernelspec": {
   "display_name": "Python 3",
   "language": "python",
   "name": "python3"
  },
  "language_info": {
   "codemirror_mode": {
    "name": "ipython",
    "version": 3
   },
   "file_extension": ".py",
   "mimetype": "text/x-python",
   "name": "python",
   "nbconvert_exporter": "python",
   "pygments_lexer": "ipython3",
   "version": "3.5.2"
  }
 },
 "nbformat": 4,
 "nbformat_minor": 2
}
